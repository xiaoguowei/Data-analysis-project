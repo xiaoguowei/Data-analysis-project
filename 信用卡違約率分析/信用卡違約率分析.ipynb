{
 "cells": [
  {
   "cell_type": "code",
   "execution_count": 2,
   "metadata": {},
   "outputs": [],
   "source": [
    "import pandas as pd\n",
    "import seaborn as sns\n",
    "from matplotlib import pyplot as plt\n",
    "from sklearn.model_selection import learning_curve,train_test_split,GridSearchCV #GridSearchCV自動調參\n",
    "from sklearn.pipeline import Pipeline\n",
    "from sklearn.preprocessing import StandardScaler #去均值和方差归一化 均值为 0，方差为 1 的正态分布\n",
    "from sklearn.metrics import accuracy_score #分類準確率分數\n",
    "from sklearn.svm import SVC #分類器\n",
    "from sklearn.tree import DecisionTreeClassifier #決策樹\n",
    "from sklearn.ensemble import RandomForestClassifier #隨機森林\n",
    "from sklearn.neighbors import KNeighborsClassifier #KNN\n",
    "plt.rcParams['font.sans-serif']=['SimHei'] #用来正常显示中文标签"
   ]
  },
  {
   "cell_type": "code",
   "execution_count": 3,
   "metadata": {},
   "outputs": [],
   "source": [
    "#讀取數據\n",
    "data=pd.read_csv('UCI_Credit_Card.csv')"
   ]
  },
  {
   "cell_type": "code",
   "execution_count": 4,
   "metadata": {},
   "outputs": [
    {
     "name": "stdout",
     "output_type": "stream",
     "text": [
      "(30000, 25)\n",
      "                 ID       LIMIT_BAL           SEX     EDUCATION      MARRIAGE  \\\n",
      "count  30000.000000    30000.000000  30000.000000  30000.000000  30000.000000   \n",
      "mean   15000.500000   167484.322667      1.603733      1.853133      1.551867   \n",
      "std     8660.398374   129747.661567      0.489129      0.790349      0.521970   \n",
      "min        1.000000    10000.000000      1.000000      0.000000      0.000000   \n",
      "25%     7500.750000    50000.000000      1.000000      1.000000      1.000000   \n",
      "50%    15000.500000   140000.000000      2.000000      2.000000      2.000000   \n",
      "75%    22500.250000   240000.000000      2.000000      2.000000      2.000000   \n",
      "max    30000.000000  1000000.000000      2.000000      6.000000      3.000000   \n",
      "\n",
      "                AGE         PAY_0         PAY_2         PAY_3         PAY_4  \\\n",
      "count  30000.000000  30000.000000  30000.000000  30000.000000  30000.000000   \n",
      "mean      35.485500     -0.016700     -0.133767     -0.166200     -0.220667   \n",
      "std        9.217904      1.123802      1.197186      1.196868      1.169139   \n",
      "min       21.000000     -2.000000     -2.000000     -2.000000     -2.000000   \n",
      "25%       28.000000     -1.000000     -1.000000     -1.000000     -1.000000   \n",
      "50%       34.000000      0.000000      0.000000      0.000000      0.000000   \n",
      "75%       41.000000      0.000000      0.000000      0.000000      0.000000   \n",
      "max       79.000000      8.000000      8.000000      8.000000      8.000000   \n",
      "\n",
      "       ...      BILL_AMT4      BILL_AMT5      BILL_AMT6       PAY_AMT1  \\\n",
      "count  ...   30000.000000   30000.000000   30000.000000   30000.000000   \n",
      "mean   ...   43262.948967   40311.400967   38871.760400    5663.580500   \n",
      "std    ...   64332.856134   60797.155770   59554.107537   16563.280354   \n",
      "min    ... -170000.000000  -81334.000000 -339603.000000       0.000000   \n",
      "25%    ...    2326.750000    1763.000000    1256.000000    1000.000000   \n",
      "50%    ...   19052.000000   18104.500000   17071.000000    2100.000000   \n",
      "75%    ...   54506.000000   50190.500000   49198.250000    5006.000000   \n",
      "max    ...  891586.000000  927171.000000  961664.000000  873552.000000   \n",
      "\n",
      "           PAY_AMT2      PAY_AMT3       PAY_AMT4       PAY_AMT5  \\\n",
      "count  3.000000e+04   30000.00000   30000.000000   30000.000000   \n",
      "mean   5.921163e+03    5225.68150    4826.076867    4799.387633   \n",
      "std    2.304087e+04   17606.96147   15666.159744   15278.305679   \n",
      "min    0.000000e+00       0.00000       0.000000       0.000000   \n",
      "25%    8.330000e+02     390.00000     296.000000     252.500000   \n",
      "50%    2.009000e+03    1800.00000    1500.000000    1500.000000   \n",
      "75%    5.000000e+03    4505.00000    4013.250000    4031.500000   \n",
      "max    1.684259e+06  896040.00000  621000.000000  426529.000000   \n",
      "\n",
      "            PAY_AMT6  default.payment.next.month  \n",
      "count   30000.000000                30000.000000  \n",
      "mean     5215.502567                    0.221200  \n",
      "std     17777.465775                    0.415062  \n",
      "min         0.000000                    0.000000  \n",
      "25%       117.750000                    0.000000  \n",
      "50%      1500.000000                    0.000000  \n",
      "75%      4000.000000                    0.000000  \n",
      "max    528666.000000                    1.000000  \n",
      "\n",
      "[8 rows x 25 columns]\n"
     ]
    }
   ],
   "source": [
    "print(data.shape) #查看數據集大小\n",
    "print(data.describe())"
   ]
  },
  {
   "cell_type": "code",
   "execution_count": 5,
   "metadata": {},
   "outputs": [
    {
     "data": {
      "text/plain": [
       "0    23364\n",
       "1     6636\n",
       "Name: default.payment.next.month, dtype: int64"
      ]
     },
     "execution_count": 5,
     "metadata": {},
     "output_type": "execute_result"
    }
   ],
   "source": [
    "#查看 下一個月 違約率的情況\n",
    "next_month=data['default.payment.next.month'].value_counts()\n",
    "next_month"
   ]
  },
  {
   "cell_type": "code",
   "execution_count": 6,
   "metadata": {},
   "outputs": [
    {
     "data": {
      "text/html": [
       "<div>\n",
       "<style scoped>\n",
       "    .dataframe tbody tr th:only-of-type {\n",
       "        vertical-align: middle;\n",
       "    }\n",
       "\n",
       "    .dataframe tbody tr th {\n",
       "        vertical-align: top;\n",
       "    }\n",
       "\n",
       "    .dataframe thead th {\n",
       "        text-align: right;\n",
       "    }\n",
       "</style>\n",
       "<table border=\"1\" class=\"dataframe\">\n",
       "  <thead>\n",
       "    <tr style=\"text-align: right;\">\n",
       "      <th></th>\n",
       "      <th>default.payment.next.month</th>\n",
       "      <th>values</th>\n",
       "    </tr>\n",
       "  </thead>\n",
       "  <tbody>\n",
       "    <tr>\n",
       "      <th>0</th>\n",
       "      <td>0</td>\n",
       "      <td>23364</td>\n",
       "    </tr>\n",
       "    <tr>\n",
       "      <th>1</th>\n",
       "      <td>1</td>\n",
       "      <td>6636</td>\n",
       "    </tr>\n",
       "  </tbody>\n",
       "</table>\n",
       "</div>"
      ],
      "text/plain": [
       "   default.payment.next.month  values\n",
       "0                           0   23364\n",
       "1                           1    6636"
      ]
     },
     "execution_count": 6,
     "metadata": {},
     "output_type": "execute_result"
    }
   ],
   "source": [
    "df=pd.DataFrame({'default.payment.next.month':next_month.index,'values':next_month.values})\n",
    "df.head()"
   ]
  },
  {
   "cell_type": "code",
   "execution_count": 7,
   "metadata": {},
   "outputs": [
    {
     "data": {
      "image/png": "[encoded data removed]",
      "text/plain": [
       "<Figure size 432x432 with 1 Axes>"
      ]
     },
     "metadata": {
      "needs_background": "light"
     },
     "output_type": "display_data"
    }
   ],
   "source": [
    "plt.figure(figsize=(6,6))\n",
    "plt.title('信用卡違約率客戶\\n(違約:1,守約:0)')\n",
    "sns.set_color_codes('pastel') #調色\n",
    "sns.barplot(x='default.payment.next.month',y='values',data=df)\n",
    "locs, labels = plt.xticks() #xticks()返回了两个对象,一个是刻标(locs)，另一个是刻度标签\n",
    "plt.show()"
   ]
  },
  {
   "cell_type": "code",
   "execution_count": 8,
   "metadata": {},
   "outputs": [],
   "source": [
    "#特征選擇\n",
    "#ID字段沒用,去掉ID字段\n",
    "# data.drop(['ID'],inplace=True,axis=1)\n",
    "target=data['default.payment.next.month'].values\n",
    "columns=data.columns.tolist() #列名轉成列表形式\n",
    "columns.remove('default.payment.next.month')#刪除\n",
    "features=data[columns].values"
   ]
  },
  {
   "cell_type": "code",
   "execution_count": 9,
   "metadata": {},
   "outputs": [],
   "source": [
    "#30%作為測試集,其餘作為訓練集\n",
    "train_x,test_x,train_y,test_y=train_test_split(features,target,test_size=0.30,stratify=target,random_state=1)\n",
    "\n",
    "#構造各種分類器\n",
    "classifiers=[\n",
    "    SVC(random_state=1,kernel='rbf'),\n",
    "    DecisionTreeClassifier(random_state=1,criterion='gini'),\n",
    "    RandomForestClassifier(random_state=1,criterion='gini'),\n",
    "    KNeighborsClassifier(metric='minkowski'),\n",
    "]\n",
    "\n",
    "# 分類器名稱\n",
    "classifier_names=[\n",
    "    'svc',\n",
    "    'decisiontreeclassifier',\n",
    "    'randomforestclassifier',\n",
    "    'kneighborsclassifier',\n",
    "]\n",
    "\n",
    "#分類器參數\n",
    "classifier_param_grid=[\n",
    "    {'svc__C':[1],'svc__gamma':[0.01]},\n",
    "    {'decisiontreeclassifier__max_depth':[6,9,11]},\n",
    "    {'randomforestclassifier__n_estimators':[3,5,6]},\n",
    "    {'kneighborsclassifier__n_neighbors':[4,6,8]},\n",
    "]"
   ]
  },
  {
   "cell_type": "code",
   "execution_count": 10,
   "metadata": {},
   "outputs": [
    {
     "name": "stdout",
     "output_type": "stream",
     "text": [
      "GridSearch最優參數: {'svc__C': 1, 'svc__gamma': 0.01}\n",
      "GridSearch最優分數: 0.81885714285714283899864085469744168221951\n",
      "準確率 0.81855555555555559177349778110510669648647\n",
      "GridSearch最優參數: {'decisiontreeclassifier__max_depth': 6}\n",
      "GridSearch最優分數: 0.82019047619047624753108038930804468691349\n",
      "準確率 0.81544444444444441622010799619602039456367\n",
      "GridSearch最優參數: {'randomforestclassifier__n_estimators': 6}\n",
      "GridSearch最優分數: 0.79957142857142859959651559620397165417671\n",
      "準確率 0.80100000000000004529709940470638684928417\n",
      "GridSearch最優參數: {'kneighborsclassifier__n_neighbors': 8}\n",
      "GridSearch最優分數: 0.80204761904761912028050119261024519801140\n",
      "準確率 0.80400000000000004796163466380676254630089\n"
     ]
    }
   ],
   "source": [
    "#對具體的分類器進行GridSearchCV參數調優\n",
    "def GridSearchCV_work(pipeline,train_x,train_y,test_x,test_y,param_grid,score='accuracy'):\n",
    "    response={}\n",
    "    gridsearch=GridSearchCV(estimator=pipeline,param_grid=param_grid,scoring=score)\n",
    "    #尋找最優的參數,和最優的準確率分數\n",
    "    search=gridsearch.fit(train_x,train_y)#訓練模型\n",
    "    print('GridSearch最優參數:',search.best_params_)\n",
    "    print('GridSearch最優分數: %0.41f'%search.best_score_)\n",
    "    predict_y=gridsearch.predict(test_x) #訓練完的模型對測試集進行預測\n",
    "    print('準確率 %0.41f'%accuracy_score(test_y,predict_y))\n",
    "    response['predict_y']=predict_y\n",
    "    response['accuracy_score']=accuracy_score(test_y,predict_y)\n",
    "    return response\n",
    "    \n",
    "for model ,model_name,model_param_grid in zip(classifiers,classifier_names,classifier_param_grid):\n",
    "    pipeline=Pipeline([\n",
    "        ('scaler',StandardScaler()),\n",
    "        (model_name,model)\n",
    "    ])\n",
    "    result=GridSearchCV_work(pipeline,train_x,train_y,test_x,test_y,model_param_grid,score='accuracy')"
   ]
  },
  {
   "cell_type": "code",
   "execution_count": 39,
   "metadata": {},
   "outputs": [],
   "source": []
  },
  {
   "cell_type": "code",
   "execution_count": null,
   "metadata": {},
   "outputs": [],
   "source": []
  }
 ],
 "metadata": {
  "kernelspec": {
   "display_name": "Python 3",
   "language": "python",
   "name": "python3"
  },
  "language_info": {
   "codemirror_mode": {
    "name": "ipython",
    "version": 3
   },
   "file_extension": ".py",
   "mimetype": "text/x-python",
   "name": "python",
   "nbconvert_exporter": "python",
   "pygments_lexer": "ipython3",
   "version": "3.7.6"
  }
 },
 "nbformat": 4,
 "nbformat_minor": 4
}
