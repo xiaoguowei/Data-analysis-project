{
 "cells": [
  {
   "cell_type": "code",
   "execution_count": 15,
   "metadata": {},
   "outputs": [],
   "source": [
    "import pandas as pd\n",
    "import numpy as np\n",
    "import seaborn as sns\n",
    "import matplotlib.pyplot as plt\n",
    "import warnings\n",
    "warnings.filterwarnings('ignore')\n",
    "plt.rcParams['font.sans-serif']=['SimHei']"
   ]
  },
  {
   "cell_type": "code",
   "execution_count": 2,
   "metadata": {},
   "outputs": [],
   "source": [
    "df=pd.read_csv('hoteldata.csv')"
   ]
  },
  {
   "cell_type": "code",
   "execution_count": 3,
   "metadata": {},
   "outputs": [
    {
     "data": {
      "text/html": [
       "<div>\n",
       "<style scoped>\n",
       "    .dataframe tbody tr th:only-of-type {\n",
       "        vertical-align: middle;\n",
       "    }\n",
       "\n",
       "    .dataframe tbody tr th {\n",
       "        vertical-align: top;\n",
       "    }\n",
       "\n",
       "    .dataframe thead th {\n",
       "        text-align: right;\n",
       "    }\n",
       "</style>\n",
       "<table border=\"1\" class=\"dataframe\">\n",
       "  <thead>\n",
       "    <tr style=\"text-align: right;\">\n",
       "      <th></th>\n",
       "      <th>酒店名称</th>\n",
       "      <th>地区</th>\n",
       "      <th>地址</th>\n",
       "      <th>卫生评分</th>\n",
       "      <th>服务评分</th>\n",
       "      <th>设施评分</th>\n",
       "      <th>位置评分</th>\n",
       "      <th>评价数</th>\n",
       "      <th>装修时间</th>\n",
       "      <th>房间类型</th>\n",
       "      <th>房价</th>\n",
       "      <th>经度</th>\n",
       "      <th>纬度</th>\n",
       "      <th>公司</th>\n",
       "      <th>出行住宿</th>\n",
       "      <th>校园生活</th>\n",
       "    </tr>\n",
       "  </thead>\n",
       "  <tbody>\n",
       "    <tr>\n",
       "      <th>0</th>\n",
       "      <td>北京朗丽兹西山花园酒店</td>\n",
       "      <td>海淀区</td>\n",
       "      <td>海淀永丰路与北清路十字路口往南800米路南</td>\n",
       "      <td>4.8</td>\n",
       "      <td>4.8</td>\n",
       "      <td>4.7</td>\n",
       "      <td>4.4</td>\n",
       "      <td>143</td>\n",
       "      <td>2014</td>\n",
       "      <td>豪华套间</td>\n",
       "      <td>9970</td>\n",
       "      <td>116.292419</td>\n",
       "      <td>40.095804</td>\n",
       "      <td>0</td>\n",
       "      <td>0</td>\n",
       "      <td>0</td>\n",
       "    </tr>\n",
       "    <tr>\n",
       "      <th>1</th>\n",
       "      <td>北京钓鱼台国宾馆</td>\n",
       "      <td>海淀区</td>\n",
       "      <td>海淀阜成路2号</td>\n",
       "      <td>4.9</td>\n",
       "      <td>4.8</td>\n",
       "      <td>4.8</td>\n",
       "      <td>4.6</td>\n",
       "      <td>9</td>\n",
       "      <td>2013</td>\n",
       "      <td>豪华套间</td>\n",
       "      <td>9888</td>\n",
       "      <td>116.339444</td>\n",
       "      <td>39.928419</td>\n",
       "      <td>28</td>\n",
       "      <td>80</td>\n",
       "      <td>43</td>\n",
       "    </tr>\n",
       "    <tr>\n",
       "      <th>2</th>\n",
       "      <td>北京颐和安缦酒店</td>\n",
       "      <td>海淀区</td>\n",
       "      <td>海淀颐和园宫门前街1号</td>\n",
       "      <td>4.7</td>\n",
       "      <td>4.6</td>\n",
       "      <td>4.4</td>\n",
       "      <td>4.4</td>\n",
       "      <td>104</td>\n",
       "      <td>2008</td>\n",
       "      <td>豪华套间</td>\n",
       "      <td>9289</td>\n",
       "      <td>116.288607</td>\n",
       "      <td>40.005692</td>\n",
       "      <td>2</td>\n",
       "      <td>18</td>\n",
       "      <td>5</td>\n",
       "    </tr>\n",
       "    <tr>\n",
       "      <th>3</th>\n",
       "      <td>北京华尔道夫胡同四合院</td>\n",
       "      <td>东城区</td>\n",
       "      <td>东城金鱼胡同5-15号</td>\n",
       "      <td>5.0</td>\n",
       "      <td>5.0</td>\n",
       "      <td>4.5</td>\n",
       "      <td>4.5</td>\n",
       "      <td>7</td>\n",
       "      <td>2016</td>\n",
       "      <td>豪华套间</td>\n",
       "      <td>6777</td>\n",
       "      <td>116.420463</td>\n",
       "      <td>39.922276</td>\n",
       "      <td>33</td>\n",
       "      <td>185</td>\n",
       "      <td>35</td>\n",
       "    </tr>\n",
       "    <tr>\n",
       "      <th>4</th>\n",
       "      <td>北京颐和安缦酒店</td>\n",
       "      <td>海淀区</td>\n",
       "      <td>海淀颐和园宫门前街1号</td>\n",
       "      <td>4.7</td>\n",
       "      <td>4.6</td>\n",
       "      <td>4.4</td>\n",
       "      <td>4.4</td>\n",
       "      <td>104</td>\n",
       "      <td>2008</td>\n",
       "      <td>商务间</td>\n",
       "      <td>5813</td>\n",
       "      <td>116.288607</td>\n",
       "      <td>40.005692</td>\n",
       "      <td>2</td>\n",
       "      <td>18</td>\n",
       "      <td>5</td>\n",
       "    </tr>\n",
       "  </tbody>\n",
       "</table>\n",
       "</div>"
      ],
      "text/plain": [
       "          酒店名称   地区                     地址  卫生评分  服务评分  设施评分  位置评分  评价数  装修时间  \\\n",
       "0  北京朗丽兹西山花园酒店  海淀区  海淀永丰路与北清路十字路口往南800米路南   4.8   4.8   4.7   4.4  143  2014   \n",
       "1     北京钓鱼台国宾馆  海淀区                海淀阜成路2号   4.9   4.8   4.8   4.6    9  2013   \n",
       "2     北京颐和安缦酒店  海淀区            海淀颐和园宫门前街1号   4.7   4.6   4.4   4.4  104  2008   \n",
       "3  北京华尔道夫胡同四合院  东城区            东城金鱼胡同5-15号   5.0   5.0   4.5   4.5    7  2016   \n",
       "4     北京颐和安缦酒店  海淀区            海淀颐和园宫门前街1号   4.7   4.6   4.4   4.4  104  2008   \n",
       "\n",
       "   房间类型    房价          经度         纬度  公司  出行住宿  校园生活  \n",
       "0  豪华套间  9970  116.292419  40.095804   0     0     0  \n",
       "1  豪华套间  9888  116.339444  39.928419  28    80    43  \n",
       "2  豪华套间  9289  116.288607  40.005692   2    18     5  \n",
       "3  豪华套间  6777  116.420463  39.922276  33   185    35  \n",
       "4   商务间  5813  116.288607  40.005692   2    18     5  "
      ]
     },
     "execution_count": 3,
     "metadata": {},
     "output_type": "execute_result"
    }
   ],
   "source": [
    "df.head()"
   ]
  },
  {
   "cell_type": "code",
   "execution_count": 4,
   "metadata": {},
   "outputs": [
    {
     "data": {
      "text/html": [
       "<div>\n",
       "<style scoped>\n",
       "    .dataframe tbody tr th:only-of-type {\n",
       "        vertical-align: middle;\n",
       "    }\n",
       "\n",
       "    .dataframe tbody tr th {\n",
       "        vertical-align: top;\n",
       "    }\n",
       "\n",
       "    .dataframe thead th {\n",
       "        text-align: right;\n",
       "    }\n",
       "</style>\n",
       "<table border=\"1\" class=\"dataframe\">\n",
       "  <thead>\n",
       "    <tr style=\"text-align: right;\">\n",
       "      <th></th>\n",
       "      <th>酒店名称</th>\n",
       "      <th>地区</th>\n",
       "      <th>地址</th>\n",
       "      <th>卫生评分</th>\n",
       "      <th>服务评分</th>\n",
       "      <th>设施评分</th>\n",
       "      <th>位置评分</th>\n",
       "      <th>评价数</th>\n",
       "      <th>装修时间</th>\n",
       "      <th>房间类型</th>\n",
       "      <th>房价</th>\n",
       "      <th>经度</th>\n",
       "      <th>纬度</th>\n",
       "      <th>公司</th>\n",
       "      <th>出行住宿</th>\n",
       "      <th>校园生活</th>\n",
       "      <th>总体评分</th>\n",
       "      <th>装修新旧</th>\n",
       "    </tr>\n",
       "  </thead>\n",
       "  <tbody>\n",
       "    <tr>\n",
       "      <th>0</th>\n",
       "      <td>北京朗丽兹西山花园酒店</td>\n",
       "      <td>海淀区</td>\n",
       "      <td>海淀永丰路与北清路十字路口往南800米路南</td>\n",
       "      <td>4.8</td>\n",
       "      <td>4.8</td>\n",
       "      <td>4.7</td>\n",
       "      <td>4.4</td>\n",
       "      <td>143</td>\n",
       "      <td>2014</td>\n",
       "      <td>豪华套间</td>\n",
       "      <td>9970</td>\n",
       "      <td>116.292419</td>\n",
       "      <td>40.095804</td>\n",
       "      <td>0</td>\n",
       "      <td>0</td>\n",
       "      <td>0</td>\n",
       "      <td>4.675</td>\n",
       "      <td>旧装修</td>\n",
       "    </tr>\n",
       "    <tr>\n",
       "      <th>1</th>\n",
       "      <td>北京钓鱼台国宾馆</td>\n",
       "      <td>海淀区</td>\n",
       "      <td>海淀阜成路2号</td>\n",
       "      <td>4.9</td>\n",
       "      <td>4.8</td>\n",
       "      <td>4.8</td>\n",
       "      <td>4.6</td>\n",
       "      <td>9</td>\n",
       "      <td>2013</td>\n",
       "      <td>豪华套间</td>\n",
       "      <td>9888</td>\n",
       "      <td>116.339444</td>\n",
       "      <td>39.928419</td>\n",
       "      <td>28</td>\n",
       "      <td>80</td>\n",
       "      <td>43</td>\n",
       "      <td>4.775</td>\n",
       "      <td>旧装修</td>\n",
       "    </tr>\n",
       "    <tr>\n",
       "      <th>2</th>\n",
       "      <td>北京颐和安缦酒店</td>\n",
       "      <td>海淀区</td>\n",
       "      <td>海淀颐和园宫门前街1号</td>\n",
       "      <td>4.7</td>\n",
       "      <td>4.6</td>\n",
       "      <td>4.4</td>\n",
       "      <td>4.4</td>\n",
       "      <td>104</td>\n",
       "      <td>2008</td>\n",
       "      <td>豪华套间</td>\n",
       "      <td>9289</td>\n",
       "      <td>116.288607</td>\n",
       "      <td>40.005692</td>\n",
       "      <td>2</td>\n",
       "      <td>18</td>\n",
       "      <td>5</td>\n",
       "      <td>4.525</td>\n",
       "      <td>旧装修</td>\n",
       "    </tr>\n",
       "    <tr>\n",
       "      <th>3</th>\n",
       "      <td>北京华尔道夫胡同四合院</td>\n",
       "      <td>东城区</td>\n",
       "      <td>东城金鱼胡同5-15号</td>\n",
       "      <td>5.0</td>\n",
       "      <td>5.0</td>\n",
       "      <td>4.5</td>\n",
       "      <td>4.5</td>\n",
       "      <td>7</td>\n",
       "      <td>2016</td>\n",
       "      <td>豪华套间</td>\n",
       "      <td>6777</td>\n",
       "      <td>116.420463</td>\n",
       "      <td>39.922276</td>\n",
       "      <td>33</td>\n",
       "      <td>185</td>\n",
       "      <td>35</td>\n",
       "      <td>4.750</td>\n",
       "      <td>新装修</td>\n",
       "    </tr>\n",
       "    <tr>\n",
       "      <th>4</th>\n",
       "      <td>北京颐和安缦酒店</td>\n",
       "      <td>海淀区</td>\n",
       "      <td>海淀颐和园宫门前街1号</td>\n",
       "      <td>4.7</td>\n",
       "      <td>4.6</td>\n",
       "      <td>4.4</td>\n",
       "      <td>4.4</td>\n",
       "      <td>104</td>\n",
       "      <td>2008</td>\n",
       "      <td>商务间</td>\n",
       "      <td>5813</td>\n",
       "      <td>116.288607</td>\n",
       "      <td>40.005692</td>\n",
       "      <td>2</td>\n",
       "      <td>18</td>\n",
       "      <td>5</td>\n",
       "      <td>4.525</td>\n",
       "      <td>旧装修</td>\n",
       "    </tr>\n",
       "  </tbody>\n",
       "</table>\n",
       "</div>"
      ],
      "text/plain": [
       "          酒店名称   地区                     地址  卫生评分  服务评分  设施评分  位置评分  评价数  装修时间  \\\n",
       "0  北京朗丽兹西山花园酒店  海淀区  海淀永丰路与北清路十字路口往南800米路南   4.8   4.8   4.7   4.4  143  2014   \n",
       "1     北京钓鱼台国宾馆  海淀区                海淀阜成路2号   4.9   4.8   4.8   4.6    9  2013   \n",
       "2     北京颐和安缦酒店  海淀区            海淀颐和园宫门前街1号   4.7   4.6   4.4   4.4  104  2008   \n",
       "3  北京华尔道夫胡同四合院  东城区            东城金鱼胡同5-15号   5.0   5.0   4.5   4.5    7  2016   \n",
       "4     北京颐和安缦酒店  海淀区            海淀颐和园宫门前街1号   4.7   4.6   4.4   4.4  104  2008   \n",
       "\n",
       "   房间类型    房价          经度         纬度  公司  出行住宿  校园生活   总体评分 装修新旧  \n",
       "0  豪华套间  9970  116.292419  40.095804   0     0     0  4.675  旧装修  \n",
       "1  豪华套间  9888  116.339444  39.928419  28    80    43  4.775  旧装修  \n",
       "2  豪华套间  9289  116.288607  40.005692   2    18     5  4.525  旧装修  \n",
       "3  豪华套间  6777  116.420463  39.922276  33   185    35  4.750  新装修  \n",
       "4   商务间  5813  116.288607  40.005692   2    18     5  4.525  旧装修  "
      ]
     },
     "execution_count": 4,
     "metadata": {},
     "output_type": "execute_result"
    }
   ],
   "source": [
    "#将四项评分的平均分作为总体评分\n",
    "df['总体评分']=(df['卫生评分']+df['服务评分']+df['设施评分']+df['位置评分'])/4\n",
    "df['装修新旧']=pd.cut(df['装修时间'],[0,2015,2019],labels=['旧装修','新装修'])\n",
    "df.head()"
   ]
  },
  {
   "cell_type": "code",
   "execution_count": 5,
   "metadata": {},
   "outputs": [],
   "source": [
    "#描述性统计分析"
   ]
  },
  {
   "cell_type": "code",
   "execution_count": 8,
   "metadata": {},
   "outputs": [
    {
     "data": {
      "image/png": "[encoded data removed]",
      "text/plain": [
       "<Figure size 1080x504 with 1 Axes>"
      ]
     },
     "metadata": {
      "needs_background": "light"
     },
     "output_type": "display_data"
    }
   ],
   "source": [
    "# 酒店房价分布直方图\n",
    "price=df['房价']\n",
    "plt.figure('hist',figsize=(15,7))\n",
    "n,bins,patches=plt.hist(price,bins=20)\n",
    "plt.show()"
   ]
  },
  {
   "cell_type": "code",
   "execution_count": 9,
   "metadata": {},
   "outputs": [
    {
     "data": {
      "text/plain": [
       "1655.5125899280577"
      ]
     },
     "execution_count": 9,
     "metadata": {},
     "output_type": "execute_result"
    }
   ],
   "source": [
    "# 酒店房价平均值\n",
    "df['房价'].mean()"
   ]
  },
  {
   "cell_type": "code",
   "execution_count": 16,
   "metadata": {},
   "outputs": [
    {
     "data": {
      "text/plain": [
       "<matplotlib.axes._subplots.AxesSubplot at 0x11b238c8>"
      ]
     },
     "execution_count": 16,
     "metadata": {},
     "output_type": "execute_result"
    },
    {
     "data": {
      "image/png": "[encoded data removed]",
      "text/plain": [
       "<Figure size 504x504 with 1 Axes>"
      ]
     },
     "metadata": {
      "needs_background": "light"
     },
     "output_type": "display_data"
    }
   ],
   "source": [
    "# 酒店因素箱型图\n",
    "df['对数房价']=np.log(df['房价'])\n",
    "plt.figure(figsize=(7,7))\n",
    "sns.boxplot(x='房间类型',y='对数房价',data=df)\n",
    "\n",
    "#符合一般的房价标准，按照标准间、商务间、豪华套间价格依次递增"
   ]
  },
  {
   "cell_type": "code",
   "execution_count": 17,
   "metadata": {},
   "outputs": [
    {
     "data": {
      "text/plain": [
       "<matplotlib.axes._subplots.AxesSubplot at 0x12241b08>"
      ]
     },
     "execution_count": 17,
     "metadata": {},
     "output_type": "execute_result"
    },
    {
     "data": {
      "image/png": "[encoded data removed]",
      "text/plain": [
       "<Figure size 504x504 with 1 Axes>"
      ]
     },
     "metadata": {
      "needs_background": "light"
     },
     "output_type": "display_data"
    }
   ],
   "source": [
    "#酒店区域因素分析\n",
    "plt.figure(figsize=(7,7))\n",
    "sns.boxplot(x='地区',y='对数房价',data=df)\n",
    "\n",
    "#根据地区划分的箱型图展示，其中，东城区和朝阳区的房价最高，海淀区紧随其后"
   ]
  },
  {
   "cell_type": "code",
   "execution_count": 19,
   "metadata": {},
   "outputs": [
    {
     "data": {
      "text/plain": [
       "<matplotlib.axes._subplots.AxesSubplot at 0x1258c348>"
      ]
     },
     "execution_count": 19,
     "metadata": {},
     "output_type": "execute_result"
    },
    {
     "data": {
      "image/png": "[encoded data removed]",
      "text/plain": [
       "<Figure size 504x504 with 1 Axes>"
      ]
     },
     "metadata": {
      "needs_background": "light"
     },
     "output_type": "display_data"
    }
   ],
   "source": [
    "#酒店装修时间\n",
    "df['对数房价']=np.log(df['房价'])\n",
    "plt.figure(figsize=(7,7))\n",
    "sns.boxplot(x='装修新旧',y='对数房价',data=df)\n",
    "\n",
    "#新装修的价格高于就旧装修，并且价格差异明显。"
   ]
  },
  {
   "cell_type": "code",
   "execution_count": 20,
   "metadata": {},
   "outputs": [
    {
     "data": {
      "text/plain": [
       "<matplotlib.axes._subplots.AxesSubplot at 0x12662a08>"
      ]
     },
     "execution_count": 20,
     "metadata": {},
     "output_type": "execute_result"
    },
    {
     "data": {
      "image/png": "[encoded data removed]",
      "text/plain": [
       "<Figure size 648x648 with 2 Axes>"
      ]
     },
     "metadata": {
      "needs_background": "light"
     },
     "output_type": "display_data"
    }
   ],
   "source": [
    "#评分因素相关系数\n",
    "\n",
    "grade=pd.DataFrame([df['卫生评分'],df['服务评分'],df['设施评分'],df['位置评分']]).transpose()\n",
    "correlation=grade.corr()\n",
    "plt.subplots(figsize=(9,9))\n",
    "sns.heatmap(correlation,annot=True,vmax=1,square=True,cmap='Blues')"
   ]
  },
  {
   "cell_type": "code",
   "execution_count": 21,
   "metadata": {},
   "outputs": [
    {
     "data": {
      "text/plain": [
       "<matplotlib.axes._subplots.AxesSubplot at 0x12671408>"
      ]
     },
     "execution_count": 21,
     "metadata": {},
     "output_type": "execute_result"
    },
    {
     "data": {
      "image/png": "[encoded data removed]",
      "text/plain": [
       "<Figure size 432x288 with 1 Axes>"
      ]
     },
     "metadata": {
      "needs_background": "light"
     },
     "output_type": "display_data"
    }
   ],
   "source": [
    "#评分因素箱型图\n",
    "df['评分分组']=pd.cut(df['总体评分'],[0,4.5,5.0],labels=['评分低','评分高'])\n",
    "sns.boxplot(x='评分分组',y='对数房价',data=df)\n",
    "\n",
    "#评分高的房价高于评分低的房价"
   ]
  },
  {
   "cell_type": "code",
   "execution_count": 22,
   "metadata": {},
   "outputs": [],
   "source": [
    "#特征选择与处理\n",
    "features=['地区','房间类型','装修新旧','总体评分','校园生活','公司','出行住宿']\n",
    "X=df[features]\n",
    "X['地区']=pd.get_dummies(X['地区'])\n",
    "X['房间类型']=pd.get_dummies(X['房间类型'])\n",
    "X['装修新旧']=pd.get_dummies(X['装修新旧'])\n",
    "\n",
    "# 对特征进行归一化处理\n",
    "from sklearn import preprocessing\n",
    "X['总体评分']=preprocessing.scale(X['总体评分'])\n",
    "X['校园生活']=preprocessing.scale(X['校园生活'])\n",
    "X['公司']=preprocessing.scale(X['公司'])\n",
    "X['出行住宿']=preprocessing.scale(X['出行住宿'])"
   ]
  },
  {
   "cell_type": "code",
   "execution_count": 24,
   "metadata": {},
   "outputs": [
    {
     "data": {
      "text/html": [
       "<div>\n",
       "<style scoped>\n",
       "    .dataframe tbody tr th:only-of-type {\n",
       "        vertical-align: middle;\n",
       "    }\n",
       "\n",
       "    .dataframe tbody tr th {\n",
       "        vertical-align: top;\n",
       "    }\n",
       "\n",
       "    .dataframe thead th {\n",
       "        text-align: right;\n",
       "    }\n",
       "</style>\n",
       "<table border=\"1\" class=\"dataframe\">\n",
       "  <thead>\n",
       "    <tr style=\"text-align: right;\">\n",
       "      <th></th>\n",
       "      <th>地区</th>\n",
       "      <th>房间类型</th>\n",
       "      <th>装修新旧</th>\n",
       "      <th>总体评分</th>\n",
       "      <th>校园生活</th>\n",
       "      <th>公司</th>\n",
       "      <th>出行住宿</th>\n",
       "    </tr>\n",
       "  </thead>\n",
       "  <tbody>\n",
       "    <tr>\n",
       "      <th>178</th>\n",
       "      <td>0</td>\n",
       "      <td>0</td>\n",
       "      <td>1</td>\n",
       "      <td>-1.846438</td>\n",
       "      <td>-0.795443</td>\n",
       "      <td>-1.004400</td>\n",
       "      <td>-1.233213</td>\n",
       "    </tr>\n",
       "    <tr>\n",
       "      <th>333</th>\n",
       "      <td>0</td>\n",
       "      <td>0</td>\n",
       "      <td>0</td>\n",
       "      <td>0.719773</td>\n",
       "      <td>-0.795443</td>\n",
       "      <td>-1.004400</td>\n",
       "      <td>-1.233213</td>\n",
       "    </tr>\n",
       "    <tr>\n",
       "      <th>421</th>\n",
       "      <td>0</td>\n",
       "      <td>0</td>\n",
       "      <td>1</td>\n",
       "      <td>-0.360737</td>\n",
       "      <td>3.144145</td>\n",
       "      <td>0.034803</td>\n",
       "      <td>-0.334100</td>\n",
       "    </tr>\n",
       "    <tr>\n",
       "      <th>251</th>\n",
       "      <td>1</td>\n",
       "      <td>1</td>\n",
       "      <td>1</td>\n",
       "      <td>0.584709</td>\n",
       "      <td>0.581500</td>\n",
       "      <td>0.393150</td>\n",
       "      <td>1.186459</td>\n",
       "    </tr>\n",
       "    <tr>\n",
       "      <th>403</th>\n",
       "      <td>0</td>\n",
       "      <td>1</td>\n",
       "      <td>1</td>\n",
       "      <td>-0.495800</td>\n",
       "      <td>-0.298214</td>\n",
       "      <td>-0.646054</td>\n",
       "      <td>0.089012</td>\n",
       "    </tr>\n",
       "    <tr>\n",
       "      <th>203</th>\n",
       "      <td>0</td>\n",
       "      <td>0</td>\n",
       "      <td>1</td>\n",
       "      <td>0.179518</td>\n",
       "      <td>1.346468</td>\n",
       "      <td>-0.287708</td>\n",
       "      <td>-0.082877</td>\n",
       "    </tr>\n",
       "    <tr>\n",
       "      <th>20</th>\n",
       "      <td>0</td>\n",
       "      <td>0</td>\n",
       "      <td>1</td>\n",
       "      <td>0.314582</td>\n",
       "      <td>1.116978</td>\n",
       "      <td>0.966503</td>\n",
       "      <td>0.049346</td>\n",
       "    </tr>\n",
       "    <tr>\n",
       "      <th>247</th>\n",
       "      <td>1</td>\n",
       "      <td>1</td>\n",
       "      <td>1</td>\n",
       "      <td>-0.225673</td>\n",
       "      <td>-0.221717</td>\n",
       "      <td>1.181511</td>\n",
       "      <td>0.538569</td>\n",
       "    </tr>\n",
       "    <tr>\n",
       "      <th>265</th>\n",
       "      <td>0</td>\n",
       "      <td>0</td>\n",
       "      <td>1</td>\n",
       "      <td>0.449646</td>\n",
       "      <td>0.352009</td>\n",
       "      <td>0.178142</td>\n",
       "      <td>0.287346</td>\n",
       "    </tr>\n",
       "    <tr>\n",
       "      <th>121</th>\n",
       "      <td>0</td>\n",
       "      <td>0</td>\n",
       "      <td>1</td>\n",
       "      <td>1.395092</td>\n",
       "      <td>-0.030475</td>\n",
       "      <td>-0.144370</td>\n",
       "      <td>0.366680</td>\n",
       "    </tr>\n",
       "  </tbody>\n",
       "</table>\n",
       "</div>"
      ],
      "text/plain": [
       "     地区  房间类型  装修新旧      总体评分      校园生活        公司      出行住宿\n",
       "178   0     0     1 -1.846438 -0.795443 -1.004400 -1.233213\n",
       "333   0     0     0  0.719773 -0.795443 -1.004400 -1.233213\n",
       "421   0     0     1 -0.360737  3.144145  0.034803 -0.334100\n",
       "251   1     1     1  0.584709  0.581500  0.393150  1.186459\n",
       "403   0     1     1 -0.495800 -0.298214 -0.646054  0.089012\n",
       "203   0     0     1  0.179518  1.346468 -0.287708 -0.082877\n",
       "20    0     0     1  0.314582  1.116978  0.966503  0.049346\n",
       "247   1     1     1 -0.225673 -0.221717  1.181511  0.538569\n",
       "265   0     0     1  0.449646  0.352009  0.178142  0.287346\n",
       "121   0     0     1  1.395092 -0.030475 -0.144370  0.366680"
      ]
     },
     "execution_count": 24,
     "metadata": {},
     "output_type": "execute_result"
    }
   ],
   "source": [
    "#随机抽取10行查看\n",
    "X.sample(10)"
   ]
  },
  {
   "cell_type": "code",
   "execution_count": 25,
   "metadata": {},
   "outputs": [
    {
     "data": {
      "text/plain": [
       "LinearRegression(copy_X=True, fit_intercept=True, n_jobs=None, normalize=False)"
      ]
     },
     "execution_count": 25,
     "metadata": {},
     "output_type": "execute_result"
    }
   ],
   "source": [
    "#模型拟合\n",
    "from sklearn import linear_model\n",
    "from sklearn.model_selection import train_test_split\n",
    "model=linear_model.LinearRegression()\n",
    "y=df['房价']\n",
    "X_train,X_test,y_train,y_test=train_test_split(X,y,test_size=0.33,random_state=42)\n",
    "model.fit(X_train,y_train)"
   ]
  },
  {
   "cell_type": "code",
   "execution_count": 26,
   "metadata": {},
   "outputs": [
    {
     "data": {
      "text/plain": [
       "734.3432022762347"
      ]
     },
     "execution_count": 26,
     "metadata": {},
     "output_type": "execute_result"
    }
   ],
   "source": [
    "# 计算残差\n",
    "np.mean(abs(model.predict(X_test)-y_test))"
   ]
  },
  {
   "cell_type": "code",
   "execution_count": 27,
   "metadata": {},
   "outputs": [
    {
     "name": "stdout",
     "output_type": "stream",
     "text": [
      "                                 OLS Regression Results                                \n",
      "=======================================================================================\n",
      "Dep. Variable:                     房价   R-squared (uncentered):                   0.644\n",
      "Model:                            OLS   Adj. R-squared (uncentered):              0.639\n",
      "Method:                 Least Squares   F-statistic:                              141.8\n",
      "Date:                Wed, 09 Sep 2020   Prob (F-statistic):                   1.00e-118\n",
      "Time:                        13:15:38   Log-Likelihood:                         -4729.1\n",
      "No. Observations:                 556   AIC:                                      9472.\n",
      "Df Residuals:                     549   BIC:                                      9502.\n",
      "Df Model:                           7                                                  \n",
      "Covariance Type:            nonrobust                                                  \n",
      "==============================================================================\n",
      "                 coef    std err          t      P>|t|      [0.025      0.975]\n",
      "------------------------------------------------------------------------------\n",
      "地区           299.5358    160.628      1.865      0.063     -15.985     615.056\n",
      "房间类型          60.1736    105.051      0.573      0.567    -146.177     266.524\n",
      "装修新旧        1535.1674     71.526     21.463      0.000    1394.668    1675.666\n",
      "总体评分         478.4600     54.293      8.812      0.000     371.812     585.108\n",
      "校园生活        -140.5926     55.645     -2.527      0.012    -249.895     -31.290\n",
      "公司          -106.4866    104.385     -1.020      0.308    -311.529      98.556\n",
      "出行住宿         117.0213    118.768      0.985      0.325    -116.275     350.317\n",
      "==============================================================================\n",
      "Omnibus:                      336.624   Durbin-Watson:                   0.564\n",
      "Prob(Omnibus):                  0.000   Jarque-Bera (JB):             3141.749\n",
      "Skew:                           2.570   Prob(JB):                         0.00\n",
      "Kurtosis:                      13.450   Cond. No.                         5.73\n",
      "==============================================================================\n",
      "\n",
      "Warnings:\n",
      "[1] Standard Errors assume that the covariance matrix of the errors is correctly specified.\n"
     ]
    }
   ],
   "source": [
    "import statsmodels.api as sm\n",
    "est=sm.OLS(y,X).fit()\n",
    "print(est.summary())"
   ]
  },
  {
   "cell_type": "code",
   "execution_count": null,
   "metadata": {},
   "outputs": [],
   "source": []
  }
 ],
 "metadata": {
  "kernelspec": {
   "display_name": "Python 3",
   "language": "python",
   "name": "python3"
  },
  "language_info": {
   "codemirror_mode": {
    "name": "ipython",
    "version": 3
   },
   "file_extension": ".py",
   "mimetype": "text/x-python",
   "name": "python",
   "nbconvert_exporter": "python",
   "pygments_lexer": "ipython3",
   "version": "3.7.6"
  }
 },
 "nbformat": 4,
 "nbformat_minor": 4
}
